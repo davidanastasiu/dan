{
 "cells": [
  {
   "cell_type": "code",
   "execution_count": null,
   "metadata": {},
   "outputs": [],
   "source": [
    "#<Ind != a, cnn, EDR, h3c3>\n",
    "import os\n",
    "os.environ[\"CUDA_VISIBLE_DEVICES\"]=\"1\"\n",
    "import numpy as np\n",
    "import random\n",
    "import pandas as pd\n",
    "from utils.utils2 import *\n",
    "import os\n",
    "import sklearn\n",
    "from sklearn.mixture import GaussianMixture\n",
    "from scipy import stats\n",
    "from options import Options\n",
    "opt = Options().parse()\n",
    "from data_provider.DS import * \n",
    "\n",
    "# data prepare\n",
    "trainX = pd.read_csv('./data_provider/datasets/'+opt.stream_sensor+'.csv', sep='\\t')\n",
    "trainX.columns = [\"id\", \"datetime\", \"value\"] \n",
    "trainX.sort_values('datetime', inplace=True),\n",
    "R_X = pd.read_csv('./data_provider/datasets/'+opt.rain_sensor+'.csv', sep='\\t')\n",
    "R_X.columns = [\"id\", \"datetime\", \"value\"] \n",
    "R_X.sort_values('datetime', inplace=True)\n",
    "ds = DS(opt, trainX, R_X)"
   ]
  },
  {
   "cell_type": "code",
   "execution_count": null,
   "metadata": {},
   "outputs": [],
   "source": [
    "# model training\n",
    "from models.DAN_M import *\n",
    "model = DAN(opt,ds)\n",
    "model.train()"
   ]
  },
  {
   "cell_type": "code",
   "execution_count": null,
   "metadata": {},
   "outputs": [],
   "source": [
    "# inferencing the whole test set for experiments\n",
    "from models.DAN_M import *\n",
    "model = DAN(opt,ds)\n",
    "ds.refresh_dataset(trainX, R_X)\n",
    "model.model_load()\n",
    "model.inference()"
   ]
  },
  {
   "cell_type": "code",
   "execution_count": null,
   "metadata": {},
   "outputs": [],
   "source": [
    "# inferencing some selected test data for real-world application\n",
    "from models.Inference import *\n",
    "\n",
    "# data prepare\n",
    "testP=[\"2025-08-01 06:30:00\" ]\n",
    "indicator_data = [random.uniform(0, 1)/800 for _ in range(288)]\n",
    "stream_data = [random.uniform(0, 1) for _ in range(15*24*4)]\n",
    "                 \n",
    "model = DAN_I(opt)\n",
    "model.model_load()\n",
    "\n",
    "for i in range(len(testP)):\n",
    "    p = model.predict(testP[i], stream_data, indicator_data)\n",
    "    print(p)"
   ]
  },
  {
   "cell_type": "code",
   "execution_count": null,
   "metadata": {},
   "outputs": [],
   "source": [
    "import pandas as pd\n",
    "import numpy as np\n",
    "import math\n",
    "from metric import *\n",
    "sensor_id=4996\n",
    "val_set=pd.read_csv('./data_provider/datasets/test_timestamps_24avg.tsv',sep='\\t')\n",
    "val_points=val_set[\"Hold Out Start\"]\n",
    "trainX = pd.read_csv('./data_provider/datasets/'+opt.stream_sensor+'.csv', sep='\\t')\n",
    "trainX.columns = [\"id\", \"datetime\", \"value\"] \n",
    "count = 0\n",
    "for test_point in val_points:\n",
    "    point = trainX[trainX[\"datetime\"]==test_point].index.values[0]\n",
    "    NN = np.isnan(trainX[point-15*24*4:point+3*24*4][\"value\"]).any() \n",
    "    if not NN:\n",
    "        count += 1\n",
    "print(count)\n",
    "# install predicted values\n",
    "print(\"There are totally \", len(val_points), \" test points\")\n",
    "filename_bs = 'Saratoga_S_fixed_OS18_Shed-ProbFeatureSaratoga_withRain_pred_lists_print.tsv'\n",
    "vals4 = []\n",
    "path4 = './output/Saratoga_withRain/test/'\n",
    "with open(path4+filename_bs, 'r') as f:\n",
    "    pred_ext_val=f.readline()\n",
    "    for i in range(count):\n",
    "      pred_ext_val=f.readline()\n",
    "      kk=pred_ext_val.split(\"\\t\")\n",
    "      kk=[ float(tt)  for tt in kk[1:] ]\n",
    "      vals4.append(kk)\n",
    "# compute metrics\n",
    "mean_x=[]\n",
    "rmse_x=[]\n",
    "loop=0\n",
    "all_GT=[]\n",
    "all_DAN=[]\n",
    "loop = 0\n",
    "ind = 0\n",
    "while loop<len(val_points):\n",
    "    ii=val_points[loop]\n",
    "    val_point=val_points[ind]\n",
    "    point=trainX[trainX[\"datetime\"]==ii].index.values[0]\n",
    "    x=trainX[point-15*24*4:point+3*24*4][\"value\"].values.tolist()    \n",
    "    if (np.isnan(np.array(x)).any()):\n",
    "        print(\"For point, \", val_point, \", there is None value in it!\")\n",
    "        loop = loop + 1 # id for time list \n",
    "        continue\n",
    "    loop = loop + 1\n",
    "    if ind >= count - count%100:\n",
    "        break\n",
    "    mean_vals_x=np.array(x[15*24*4:]).mean()\n",
    "    mean_x.append(mean_vals_x)        \n",
    "    ind += 1   # id for dataset \n",
    "# DAN\n",
    "    temp_vals4=list([None for i in range(15*24*4)])+list(vals4[ind-1])\n",
    "    all_GT.extend(x[15*24*4:])\n",
    "    all_DAN.extend(temp_vals4[15*24*4:]) \n",
    "mean = np.array(all_GT).mean()\n",
    "print(\"mean is, \", mean)"
   ]
  },
  {
   "cell_type": "code",
   "execution_count": null,
   "metadata": {},
   "outputs": [],
   "source": [
    "metric_g(\"DAN\", np.array(all_DAN), np.array(all_GT))"
   ]
  },
  {
   "cell_type": "code",
   "execution_count": null,
   "metadata": {},
   "outputs": [],
   "source": []
  }
 ],
 "metadata": {
  "kernelspec": {
   "display_name": "Python 3 (ipykernel)",
   "language": "python",
   "name": "python3"
  },
  "language_info": {
   "codemirror_mode": {
    "name": "ipython",
    "version": 3
   },
   "file_extension": ".py",
   "mimetype": "text/x-python",
   "name": "python",
   "nbconvert_exporter": "python",
   "pygments_lexer": "ipython3",
   "version": "3.8.8"
  }
 },
 "nbformat": 4,
 "nbformat_minor": 4
}
