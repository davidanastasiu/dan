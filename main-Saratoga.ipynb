{
 "cells": [
  {
   "cell_type": "code",
   "execution_count": null,
   "id": "f5f41ae7-1b2f-4b94-bed2-7382f7169391",
   "metadata": {},
   "outputs": [],
   "source": [
    "import os\n",
    "# os.environ[\"CUDA_VISIBLE_DEVICES\"]=\"1\"\n",
    "import numpy as np\n",
    "import random\n",
    "import pandas as pd\n",
    "from utils.utils2 import *\n",
    "import os\n",
    "import sklearn\n",
    "from sklearn.mixture import GaussianMixture\n",
    "from scipy import stats\n",
    "from options-Saratoga import Options\n",
    "opt = Options().parse()\n",
    "from data_provider.DS import * \n",
    "\n",
    "# Data prepare\n",
    "trainX = pd.read_csv('./data_provider/datasets/'+opt.stream_sensor+'.csv', sep='\\t')\n",
    "trainX.columns = [\"id\", \"datetime\", \"value\"] \n",
    "trainX.sort_values('datetime', inplace=True),\n",
    "R_X = pd.read_csv('./data_provider/datasets/'+opt.rain_sensor+'.csv', sep='\\t')\n",
    "R_X.columns = [\"id\", \"datetime\", \"value\"] \n",
    "R_X.sort_values('datetime', inplace=True)\n",
    "ds = DS(opt, trainX, R_X)"
   ]
  },
  {
   "cell_type": "code",
   "execution_count": null,
   "id": "3d86e237-9ac2-48ba-9d3b-46d9b80dfbaa",
   "metadata": {},
   "outputs": [],
   "source": [
    "# Model training\n",
    "from models.DAN_M import *\n",
    "model = DAN(opt,ds)\n",
    "model.train()"
   ]
  },
  {
   "cell_type": "code",
   "execution_count": null,
   "id": "504cd6bf-8abc-4a3f-a052-72942912cadf",
   "metadata": {},
   "outputs": [],
   "source": [
    "# Inferencing, saving the result to Inference_dir\n",
    "from models.DAN_M import *\n",
    "model = DAN(opt,ds)\n",
    "ds.refresh_dataset(trainX, R_X)\n",
    "model.model_load()\n",
    "Inference_dir = model.inference()"
   ]
  },
  {
   "cell_type": "code",
   "execution_count": null,
   "id": "6b874011-9ec5-49c6-ba06-423f8918fa21",
   "metadata": {},
   "outputs": [],
   "source": [
    "# Computing RMSE and MAPE\n",
    "from models.DAN_M import *\n",
    "model = DAN(opt,ds)\n",
    "metrics = model.compute_metrics(Inference_dir)\n",
    "print(\"RMSE: \", np.array(metrics[0][0]))\n",
    "print(\"MAPE: \", np.array(metrics[1][0]))"
   ]
  }
 ],
 "metadata": {
  "kernelspec": {
   "display_name": "Python 3 (ipykernel)",
   "language": "python",
   "name": "python3"
  },
  "language_info": {
   "codemirror_mode": {
    "name": "ipython",
    "version": 3
   },
   "file_extension": ".py",
   "mimetype": "text/x-python",
   "name": "python",
   "nbconvert_exporter": "python",
   "pygments_lexer": "ipython3",
   "version": "3.8.8"
  }
 },
 "nbformat": 4,
 "nbformat_minor": 5
}
