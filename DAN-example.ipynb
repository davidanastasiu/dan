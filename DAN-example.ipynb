{
 "cells": [
  {
   "cell_type": "markdown",
   "metadata": {},
   "source": [
    "## <font color=blue >DAN demo.\n",
    "This notebook demos how to train the DAN model on the CSV dataset files of ***SFC*** stream sensor. If you want to run it on other sensors, just change the parameter of ***--stream_sensor*** and ***--rain_sensor***.\n",
    "\n",
    "In our dataset, the parameters should be set to:\n",
    "\n",
    "--stream_sensor **Ross_S_fixed**\n",
    "--rain_sensor **Ross_R_fixed** \n",
    "\n",
    "--stream_sensor **Saratoga_S_fixed** \n",
    "--rain_sensor **Saratoga_R_fixed** \n",
    "\n",
    "--stream_sensor **UpperPen_S_fixed** \n",
    "--rain_sensor **UpperPen_R_fixed** \n",
    "\n",
    "--stream_sensor **SFC_S_fixed** \n",
    "--rain_sensor **SFC_R_fixed** \n",
    "\n",
    "With DAN, you can build **uni-variate** model, which means you only have stream sensor data as the traininig data and the input to the model.\n",
    "\n",
    "Also, you can build **multi-variate** model, which means you have stream sensor data and nearby rain sensor data. In this situation, the rain data can be the real rain record and the predicted rain data. \n",
    "    \n",
    "Generally, the **predicted rain data** can be extended to the future days, which will be a good hint to help forecast the stream data. So if you have influent forecasted data to train the model, please think about adoping this since we can support this method by setting the parameter *r_shift* to make use of the future forecasted rain information."
   ]
  },
  {
   "cell_type": "markdown",
   "metadata": {},
   "source": [
    "## <font color=blue >Parameter setting. \n",
    "\n",
    "--**stream_sensor**: stream dataset file name. The file should be csv file.\n",
    "\n",
    "--**rain_sensor**: rain dataset file name. The file should be csv file.\n",
    "\n",
    "--**train_volume**: train set size.\n",
    "\n",
    "--**hidden_dim**: hidden dim of lstm layers.\n",
    "\n",
    "--**cnn_dim**: hidden dim of cnn layers.\n",
    "\n",
    "--**layer**: number of layers.\n",
    "\n",
    "--**stack_types**: model stacks specified for this sensor. It should be a stack of encoder, decoder and residue.\n",
    "\n",
    "--**r_shift**: shift positions of rain hinter, set to 288 without any predicted rain value. Otherwise, set to 0~288 according to the length of known forecasted rain data.\n",
    "\n",
    "--**watershed**: 1 if trained with rain info, else 0.\n",
    "\n",
    "--**model**: model name, used to generate the pt file and predicted file names.\n",
    "\n",
    "--**mode**: set it to 'train' or 'inference' with an existing pt_file.\n",
    "\n",
    "--**pt_file**: if set, the model will be loaded from this pt file, otherwise check the file according to the assigned parameters.\n",
    "\n",
    "--**save**: if save the predicted file of testset, set to 1, else 0."
   ]
  },
  {
   "cell_type": "markdown",
   "metadata": {},
   "source": [
    "## <font color=blue >Train a *uni-variate* model without rain data."
   ]
  },
  {
   "cell_type": "code",
   "execution_count": null,
   "metadata": {},
   "outputs": [],
   "source": [
    "! python options_SFC.py \\\n",
    "--stream_sensor SFC_S_fixed \\\n",
    "--rain_sensor SFC_R_fixed \\\n",
    "--model SFC_noRain \\\n",
    "--mode train \\\n",
    "--watershed 0 \\\n",
    "--r_shift 288 \\\n",
    "--stack_types '\"encoder\",\"decoder\",\"encoder\",\"decoder\",\"residue\"' \\\n",
    "--train_volume 30000 \\\n",
    "--hidden_dim 384 \\"
   ]
  },
  {
   "cell_type": "markdown",
   "metadata": {},
   "source": [
    "## <font color=blue >Train a *multi-variate* model with rain data."
   ]
  },
  {
   "cell_type": "code",
   "execution_count": null,
   "metadata": {},
   "outputs": [],
   "source": [
    "! python options_SFC.py \\\n",
    "--stream_sensor SFC_S_fixed \\\n",
    "--rain_sensor SFC_R_fixed \\\n",
    "--model SFC_withRain \\\n",
    "--mode train \\\n",
    "--watershed 1 \\\n",
    "--r_shift 0 \\\n",
    "--stack_types '\"encoder\",\"decoder\",\"encoder\",\"decoder\",\"residue\"' \\\n",
    "--train_volume 30000 \\\n",
    "--hidden_dim 384 \\"
   ]
  },
  {
   "cell_type": "markdown",
   "metadata": {},
   "source": [
    "## <font color=blue >Train a *multi-variate* model using forecasted rain data."
   ]
  },
  {
   "cell_type": "code",
   "execution_count": null,
   "metadata": {},
   "outputs": [],
   "source": [
    "! python options_SFC.py \\\n",
    "--stream_sensor SFC_S_fixed \\\n",
    "--rain_sensor SFC_R_fixed \\\n",
    "--model SFC_withRain_shift \\\n",
    "--mode train \\\n",
    "--watershed 1 \\\n",
    "--r_shift 0 \\\n",
    "--stack_types '\"encoder\",\"decoder\",\"residue\"' \\\n",
    "--train_volume 20000 \\\n",
    "--hidden_dim 512 \\"
   ]
  },
  {
   "cell_type": "markdown",
   "metadata": {},
   "source": [
    "## <font color=blue >Load a trained multi-variate model."
   ]
  },
  {
   "cell_type": "code",
   "execution_count": 1,
   "metadata": {
    "collapsed": true
   },
   "outputs": [
    {
     "name": "stdout",
     "output_type": "stream",
     "text": [
      "for sensor  SFC_S_fixed start_num is:  17626\n",
      "train set length is :  1180452\n",
      "mean is:  1.3893995522890237\n",
      "std is  1.4236018607926855\n",
      "gm3.means are:  [[  0.56968542]\n",
      " [174.25126833]\n",
      " [  8.54115031]]\n",
      "gm3.covariances are:  [[[2.50918053e-01]]\n",
      "\n",
      " [[9.71385047e+04]]\n",
      "\n",
      " [[5.62293394e+01]]]\n",
      "gm3.weights are:  [0.54092134 0.10234523 0.35673343]\n",
      "Finish prob indicator generating.\n",
      "for sensor  SFC_R_fixed start_num is:  269625\n",
      "R_X set length is :  1180452\n",
      "mean is:  0.0007207449397312904\n",
      "std is  0.007359505976076972\n",
      "norm is:  [1.38939955e+00 1.42360186e+00 7.20744940e-04 7.35950598e-03]\n",
      "Finish prob indicator updating.\n",
      "| DANet\n",
      "| --  Stack Encoder (#0)\n",
      "| --  Stack Decoder (#1)\n",
      "| --  Stack Encoder (#2)\n",
      "| --  Stack Decoder (#3)\n",
      "| --  Stack Residue (#4)\n",
      "Importing the pt file: ./output/SFC_withRain/train/SFC_S_fixed_OS18_Shed-ProbFeatureSFC_withRain_net.pt\n",
      "| DANet\n",
      "| --  Stack Encoder (#0)\n",
      "| --  Stack Decoder (#1)\n",
      "| --  Stack Encoder (#2)\n",
      "| --  Stack Decoder (#3)\n",
      "| --  Stack Residue (#4)\n"
     ]
    }
   ],
   "source": [
    "import numpy as np\n",
    "import random\n",
    "import imp\n",
    "from utils.utils2 import *\n",
    "from run import Options\n",
    "from models.DAN_M import *\n",
    "# model name\n",
    "pt = 'SFC_withRain'\n",
    "# get model\n",
    "model = Options().get_model(pt)\n"
   ]
  },
  {
   "cell_type": "markdown",
   "metadata": {},
   "source": [
    "## <font color=blue >Use test_single to do inferencing on one time-point."
   ]
  },
  {
   "cell_type": "code",
   "execution_count": 2,
   "metadata": {},
   "outputs": [
    {
     "name": "stdout",
     "output_type": "stream",
     "text": [
      "RMSE:  139.66732135095194\n",
      "MAPE:  0.3246788859493147\n"
     ]
    },
    {
     "data": {
      "text/plain": [
       "[<matplotlib.lines.Line2D at 0x7f742a7076a0>]"
      ]
     },
     "execution_count": 2,
     "metadata": {},
     "output_type": "execute_result"
    },
    {
     "data": {
      "image/png": "[encoded data removed]",
      "text/plain": [
       "<Figure size 1080x216 with 1 Axes>"
      ]
     },
     "metadata": {
      "needs_background": "light"
     },
     "output_type": "display_data"
    }
   ],
   "source": [
    "import numpy as np\n",
    "from utils.utils2 import *\n",
    "testP=[\"2021-12-16 00:30:00\" ]\n",
    "predicted, ground_truth = model.test_single(testP[0])\n",
    "print(\"RMSE: \", RMSE(predicted, ground_truth))\n",
    "print(\"MAPE: \", MAPE(predicted, ground_truth))\n",
    "plot(ground_truth, predicted)"
   ]
  },
  {
   "cell_type": "markdown",
   "metadata": {},
   "source": [
    "## <font color=blue >Load a trained multi-variate model with forecasted rain data."
   ]
  },
  {
   "cell_type": "code",
   "execution_count": 3,
   "metadata": {
    "collapsed": true
   },
   "outputs": [
    {
     "name": "stdout",
     "output_type": "stream",
     "text": [
      "for sensor  SFC_S_fixed start_num is:  17626\n",
      "train set length is :  1180452\n",
      "mean is:  1.3893995522890237\n",
      "std is  1.4236018607926855\n",
      "gm3.means are:  [[  0.5697677 ]\n",
      " [  8.54394019]\n",
      " [174.29396462]]\n",
      "gm3.covariances are:  [[[2.51016231e-01]]\n",
      "\n",
      " [[5.62767222e+01]]\n",
      "\n",
      " [[9.71616429e+04]]]\n",
      "gm3.weights are:  [0.54096018 0.35672536 0.10231446]\n",
      "Finish prob indicator generating.\n",
      "for sensor  SFC_R_fixed start_num is:  269625\n",
      "R_X set length is :  1180452\n",
      "mean is:  0.0007207449397312904\n",
      "std is  0.007359505976076972\n",
      "norm is:  [1.38939955e+00 1.42360186e+00 7.20744940e-04 7.35950598e-03]\n",
      "Finish prob indicator updating.\n",
      "| DANet\n",
      "| --  Stack Encoder (#0)\n",
      "| --  Stack Decoder (#1)\n",
      "| --  Stack Residue (#2)\n",
      "Importing the pt file: ./output/SFC_withRain_shift/train/SFC_S_fixed_OS18_Shed-ProbFeatureSFC_withRain_shift_net.pt\n",
      "| DANet\n",
      "| --  Stack Encoder (#0)\n",
      "| --  Stack Decoder (#1)\n",
      "| --  Stack Residue (#2)\n"
     ]
    }
   ],
   "source": [
    "import numpy as np\n",
    "import random\n",
    "from utils.utils2 import *\n",
    "from run import Options\n",
    "from models.DAN_M import *\n",
    "# model name\n",
    "pt = 'SFC_withRain_shift'\n",
    "# get model\n",
    "model = Options().get_model(pt)"
   ]
  },
  {
   "cell_type": "markdown",
   "metadata": {},
   "source": [
    "## <font color=blue >Inferencing for one time point.\n",
    "If you already have test time point, use ***test_single*** function to do it, assuming stream input and rain data input can be retrieved from the dataset. "
   ]
  },
  {
   "cell_type": "code",
   "execution_count": 6,
   "metadata": {},
   "outputs": [
    {
     "name": "stdout",
     "output_type": "stream",
     "text": [
      "RMSE:  65.53915466963569\n",
      "MAPE:  0.33758786155636583\n"
     ]
    },
    {
     "data": {
      "text/plain": [
       "[<matplotlib.lines.Line2D at 0x7f72e1630340>]"
      ]
     },
     "execution_count": 6,
     "metadata": {},
     "output_type": "execute_result"
    },
    {
     "data": {
      "image/png": "[encoded data removed]",
      "text/plain": [
       "<Figure size 1080x216 with 1 Axes>"
      ]
     },
     "metadata": {
      "needs_background": "light"
     },
     "output_type": "display_data"
    }
   ],
   "source": [
    "import numpy as np\n",
    "from utils.utils2 import *\n",
    "testP=[\"2021-12-16 00:30:00\" ]\n",
    "predicted, ground_truth = model.test_single(testP[0])\n",
    "print(\"RMSE: \", RMSE(predicted, ground_truth))\n",
    "print(\"MAPE: \", MAPE(predicted, ground_truth))\n",
    "plot(ground_truth, predicted)"
   ]
  },
  {
   "cell_type": "markdown",
   "metadata": {},
   "source": [
    "## <font color=blue >Inferencing for real-world application.\n",
    "If you already have test time point, history stream input and rain data input prepared, use ***predict*** function to do it."
   ]
  },
  {
   "cell_type": "code",
   "execution_count": 8,
   "metadata": {},
   "outputs": [
    {
     "name": "stdout",
     "output_type": "stream",
     "text": [
      "| DANet\n",
      "| --  Stack Encoder (#0)\n",
      "| --  Stack Decoder (#1)\n",
      "| --  Stack Residue (#2)\n",
      "norm is:  [1.38939955e+00 1.42360186e+00 7.20744940e-04 7.35950598e-03]\n",
      "Importing the pt file: ./output/SFC_withRain_shift/train/SFC_S_fixed_OS18_Shed-ProbFeatureSFC_withRain_shift_net.pt\n",
      "| DANet\n",
      "| --  Stack Encoder (#0)\n",
      "| --  Stack Decoder (#1)\n",
      "| --  Stack Residue (#2)\n",
      "[0.99649185 1.04835577 1.04172301 1.0238818  0.99109392 0.93763571\n",
      " 0.94467506 0.95902521 0.94918511 0.93189612 0.92456724 0.96805144\n",
      " 1.07805779 1.12761903 1.1302215  1.1372289  1.14172251 1.15494428\n",
      " 1.1454904  1.10033771 1.0501254  1.04562236 1.04265806 1.06336649\n",
      " 1.06773734 1.08301071 1.07893901 1.08475774 1.07588848 1.07714275\n",
      " 1.0675561  1.06838153 1.06021267 1.06145389 1.05382503 1.05453567\n",
      " 1.04681101 1.04715006 1.03988923 1.04039481 1.03380275 1.03458199\n",
      " 1.0286246  1.02879795 1.01580238 0.98772704 0.9519056  0.94521654\n",
      " 0.93914118 0.94059019 0.93563647 0.9370084  0.93214154 0.93463549\n",
      " 0.93638097 0.95651476 0.96377516 0.9684187  0.96389947 0.96603266\n",
      " 0.96141905 0.96355705 0.9592247  0.96128724 0.95718757 0.96065028\n",
      " 0.96745485 0.99813723 1.01152356 1.01626991 1.01313    1.0152858\n",
      " 1.01221982 1.01626666 1.02147553 1.0487674  1.05329339 1.02395238\n",
      " 0.99802601 0.9962585  0.99169209 0.99382502 0.98934478 0.99125172\n",
      " 0.98680027 0.98875718 0.9847717  0.98700326 0.98369986 0.9863684\n",
      " 0.98361688 0.98661888 0.98424396 0.9873292  0.98396617 0.97896234\n",
      " 0.93864942 0.88808384 0.86775384 0.86805784 0.86544234 0.86869389\n",
      " 0.86684562 0.87034369 0.86862872 0.87139954 0.86726482 0.86090592\n",
      " 0.82611566 0.78638316 0.76274508 0.75107666 0.73533974 0.72617171\n",
      " 0.71520479 0.71457006 0.71414922 0.72376364 0.73007313 0.74193428\n",
      " 0.74595073 0.75321893 0.75190269 0.75412336 0.74556603 0.73303343\n",
      " 0.72908132 0.76685749 0.78171362 0.78627993 0.77994171 0.78045198\n",
      " 0.77366797 0.77429643 0.76751923 0.76822713 0.76139748 0.76198705\n",
      " 0.75522053 0.75574188 0.74894473 0.74944373 0.74266268 0.74326566\n",
      " 0.73651224 0.73718723 0.73029966 0.73108959 0.72400924 0.72479221\n",
      " 0.71754669 0.71816852 0.71047325 0.70806723 0.68786041 0.67045199\n",
      " 0.65617839 0.64594524 0.61787155 0.60684548 0.59851513 0.59828985\n",
      " 0.59177361 0.59190571 0.58578602 0.58599541 0.58032535 0.58098148\n",
      " 0.57525836 0.57596976 0.57043761 0.57093714 0.56556133 0.56612815\n",
      " 0.56104098 0.5618146  0.55690935 0.55788991 0.55312587 0.5543955\n",
      " 0.54962795 0.55115241 0.5463809  0.5481591  0.54339496 0.5452775\n",
      " 0.54053791 0.54261187 0.53797324 0.54020553 0.53555472 0.53774162\n",
      " 0.53328663 0.53553544 0.53118844 0.53335285 0.52915787 0.53126159\n",
      " 0.5273849  0.52949643 0.52575924 0.52791559 0.52437484 0.52665864\n",
      " 0.52324773 0.52565696 0.52231817 0.52486386 0.52143514 0.52380065\n",
      " 0.52042966 0.52266427 0.51944032 0.52151428 0.51846722 0.52052772\n",
      " 0.51771661 0.51978873 0.51715741 0.51938798 0.51677151 0.51907047\n",
      " 0.51642096 0.51879207 0.51612749 0.51851412 0.51578519 0.51834688\n",
      " 0.51562815 0.51839713 0.51562404 0.51869632 0.51688799 0.52619871\n",
      " 0.54013169 0.55352616 0.55254229 0.55557351 0.5525274  0.55538847\n",
      " 0.55237315 0.55554685 0.55270763 0.55627932 0.55477171 0.56529793\n",
      " 0.57435718 0.58135554 0.57797305 0.57933764 0.57451536 0.57483938\n",
      " 0.56880273 0.56697835 0.55793181 0.55199593 0.53829052 0.52762144\n",
      " 0.51027117 0.49853884 0.4840083  0.47785276 0.47033849 0.47069535\n",
      " 0.46886964 0.47531608 0.48151737 0.50300611 0.53427105 0.55141647\n",
      " 0.53718912 0.51764952 0.49499475 0.48001274 0.46326328 0.45382743\n",
      " 0.43947097 0.42700855 0.42141952 0.42646461 0.43882217 0.46438267\n",
      " 0.45275272 0.46176231 0.47686205 0.43680022 0.38871872 0.45090176]\n"
     ]
    }
   ],
   "source": [
    "# data generated randomly as an example. Use your own input data to replace them.\n",
    "from models.Inference import *\n",
    "testP=[\"2025-08-01 06:30:00\" ]\n",
    "indicator_data = [random.uniform(0, 1)/800 for _ in range(288)]\n",
    "stream_data = [random.uniform(0, 1) for _ in range(15*24*4)]      \n",
    "opt.pt_file='./output/SFC_withRain_shift/train/SFC_S_fixed_OS18_Shed-ProbFeatureSFC_withRain_shift_net.pt'\n",
    "model = DAN_I(opt)\n",
    "model.model_load()\n",
    "for i in range(len(testP)):\n",
    "    p = model.predict(testP[i], stream_data, indicator_data)\n",
    "    print(p)"
   ]
  }
 ],
 "metadata": {
  "kernelspec": {
   "display_name": "Python 3",
   "language": "python",
   "name": "python3"
  },
  "language_info": {
   "codemirror_mode": {
    "name": "ipython",
    "version": 3
   },
   "file_extension": ".py",
   "mimetype": "text/x-python",
   "name": "python",
   "nbconvert_exporter": "python",
   "pygments_lexer": "ipython3",
   "version": "3.8.3"
  }
 },
 "nbformat": 4,
 "nbformat_minor": 4
}
