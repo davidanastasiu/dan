{
 "cells": [
  {
   "cell_type": "markdown",
   "metadata": {},
   "source": [
    "## <font color=blue >DAN demo.\n",
    "This notebook demos how to train the DAN model on the CSV dataset files of ***SFC*** stream sensor. If you want to run it on other sensors, just change the parameter of ***--stream_sensor*** and ***--rain_sensor***.\n",
    "\n",
    "In our dataset, the parameters should be set to:\n",
    "\n",
    "--stream_sensor **Ross_S_fixed**\n",
    "--rain_sensor **Ross_R_fixed** \n",
    "\n",
    "--stream_sensor **Saratoga_S_fixed** \n",
    "--rain_sensor **Saratoga_R_fixed** \n",
    "\n",
    "--stream_sensor **UpperPen_S_fixed** \n",
    "--rain_sensor **UpperPen_R_fixed** \n",
    "\n",
    "--stream_sensor **SFC_S_fixed** \n",
    "--rain_sensor **SFC_R_fixed** \n",
    "\n",
    "With DAN, you can build **uni-variate** model, which means you only have stream sensor data as the traininig data and the input to the model.\n",
    "\n",
    "Also, you can build **multi-variate** model, which means you have stream sensor data and nearby rain sensor data. In this situation, the rain data can be the real rain record and the predicted rain data. \n",
    "    \n",
    "Generally, the **predicted rain data** can be extended to the future days, which will be a good hint to help forecast the stream data. So if you have influent forecasted data to train the model, please think about adoping this since we can support this method by setting the parameter *r_shift* to make use of the future forecasted rain information."
   ]
  },
  {
   "cell_type": "markdown",
   "metadata": {},
   "source": [
    "## <font color=blue >Parameter setting. \n",
    "\n",
    "--**stream_sensor**: stream dataset file name. The file should be csv file.\n",
    "\n",
    "--**rain_sensor**: rain dataset file name. The file should be csv file.\n",
    "\n",
    "--**train_volume**: train set size.\n",
    "\n",
    "--**hidden_dim**: hidden dim of lstm layers.\n",
    "\n",
    "--**cnn_dim**: hidden dim of cnn layers.\n",
    "\n",
    "--**layer**: number of layers.\n",
    "\n",
    "--**stack_types**: model stacks specified for this sensor. It should be a stack of encoder, decoder and residue.\n",
    "\n",
    "--**r_shift**: shift positions of rain hinter, set to 288 without any predicted rain value. Otherwise, set to 0~288 according to the length of known forecasted rain data.\n",
    "\n",
    "--**watershed**: 1 if trained with rain info, else 0.\n",
    "\n",
    "--**model**: model name, used to generate the pt file and predicted file names.\n",
    "\n",
    "--**mode**: set it to 'train' or 'inference' with an existing pt_file.\n",
    "\n",
    "--**pt_file**: if set, the model will be loaded from this pt file, otherwise check the file according to the assigned parameters.\n",
    "\n",
    "--**save**: if save the predicted file of testset, set to 1, else 0.\n",
    "\n",
    "--**outf**: default value is './output', the model will be saved in the train folder in this directory."
   ]
  },
  {
   "cell_type": "markdown",
   "metadata": {},
   "source": [
    "## <font color=blue >Train a *uni-variate* model without rain data."
   ]
  },
  {
   "cell_type": "code",
   "execution_count": null,
   "metadata": {},
   "outputs": [],
   "source": [
    "! python run.py \\\n",
    "--stream_sensor SFC_S_fixed \\\n",
    "--rain_sensor SFC_R_fixed \\\n",
    "--model SFC_noRain \\\n",
    "--mode train \\\n",
    "--watershed 0 \\\n",
    "--r_shift 288 \\\n",
    "--stack_types '\"encoder\",\"decoder\",\"encoder\",\"decoder\",\"residue\"' \\\n",
    "--train_volume 30000 \\\n",
    "--hidden_dim 384 \\"
   ]
  },
  {
   "cell_type": "markdown",
   "metadata": {},
   "source": [
    "## <font color=blue >Train a *multi-variate* model with rain data."
   ]
  },
  {
   "cell_type": "code",
   "execution_count": null,
   "metadata": {},
   "outputs": [],
   "source": [
    "! python run.py \\\n",
    "--stream_sensor SFC_S_fixed \\\n",
    "--rain_sensor SFC_R_fixed \\\n",
    "--model SFC_withRain \\\n",
    "--mode train \\\n",
    "--watershed 1 \\\n",
    "--r_shift 0 \\\n",
    "--stack_types '\"encoder\",\"decoder\",\"encoder\",\"decoder\",\"residue\"' \\\n",
    "--train_volume 30000 \\\n",
    "--hidden_dim 384 \\"
   ]
  },
  {
   "cell_type": "markdown",
   "metadata": {},
   "source": [
    "## <font color=blue >Train a *multi-variate* model using forecasted rain data."
   ]
  },
  {
   "cell_type": "code",
   "execution_count": null,
   "metadata": {},
   "outputs": [],
   "source": [
    "! python run.py \\\n",
    "--stream_sensor SFC_S_fixed \\\n",
    "--rain_sensor SFC_R_fixed \\\n",
    "--model SFC_withRain_shift \\\n",
    "--mode train \\\n",
    "--watershed 1 \\\n",
    "--r_shift 0 \\\n",
    "--stack_types '\"encoder\",\"decoder\",\"residue\"' \\\n",
    "--train_volume 20000 \\\n",
    "--hidden_dim 512 \\"
   ]
  },
  {
   "cell_type": "markdown",
   "metadata": {},
   "source": [
    "## <font color=blue >Load a trained multi-variate model."
   ]
  },
  {
   "cell_type": "code",
   "execution_count": null,
   "metadata": {},
   "outputs": [],
   "source": [
    "import numpy as np\n",
    "import random\n",
    "import imp\n",
    "from utils.utils2 import *\n",
    "from run import Options\n",
    "from models.DAN_M import *\n",
    "pt = './output/SFC_withRain_shift/train/SFC_withRain.zip'\n",
    "# get model\n",
    "model = Options().get_model(pt)"
   ]
  },
  {
   "cell_type": "markdown",
   "metadata": {},
   "source": [
    "## <font color=blue >Use test_single to do inferencing on one time-point."
   ]
  },
  {
   "cell_type": "code",
   "execution_count": 2,
   "metadata": {},
   "outputs": [
    {
     "name": "stdout",
     "output_type": "stream",
     "text": [
      "RMSE:  139.66732135095194\n",
      "MAPE:  0.3246788859493147\n"
     ]
    },
    {
     "data": {
      "text/plain": [
       "[<matplotlib.lines.Line2D at 0x7f56620ee6d0>]"
      ]
     },
     "execution_count": 2,
     "metadata": {},
     "output_type": "execute_result"
    },
    {
     "data": {
      "image/png": "[encoded data removed]",
      "text/plain": [
       "<Figure size 1080x216 with 1 Axes>"
      ]
     },
     "metadata": {
      "needs_background": "light"
     },
     "output_type": "display_data"
    }
   ],
   "source": [
    "import numpy as np\n",
    "from utils.utils2 import *\n",
    "testP=[\"2021-12-16 00:30:00\" ] \n",
    "predicted, ground_truth = model.test_single(testP[0])\n",
    "print(\"RMSE: \", RMSE(predicted, ground_truth))\n",
    "print(\"MAPE: \", MAPE(predicted, ground_truth))\n",
    "plot(ground_truth, predicted)"
   ]
  },
  {
   "cell_type": "markdown",
   "metadata": {},
   "source": [
    "## <font color=blue >Load a trained multi-variate model with forecasted rain data."
   ]
  },
  {
   "cell_type": "code",
   "execution_count": 2,
   "metadata": {},
   "outputs": [
    {
     "name": "stdout",
     "output_type": "stream",
     "text": [
      "current dir:  /data/hydro/hydro-2/code/DAN_pure_code_1211\n",
      "Importing parameters from:  opt.txt ............\n",
      "| DANet\n",
      "| --  Stack Encoder (#0)\n",
      "| --  Stack Decoder (#1)\n",
      "| --  Stack Residue (#2)\n",
      "norm is:  [1.38939955e+00 1.42360186e+00 7.20744940e-04 7.35950598e-03]\n"
     ]
    }
   ],
   "source": [
    "import numpy as np\n",
    "import random\n",
    "import imp\n",
    "from utils.utils2 import *\n",
    "from run import Options\n",
    "from models.DAN_M import *\n",
    "pt = './output/SFC_withRain_shift/train/SFC_withRain_shift.zip'\n",
    "# get model\n",
    "model = Options().get_model(pt)"
   ]
  },
  {
   "cell_type": "markdown",
   "metadata": {},
   "source": [
    "## <font color=blue >Inferencing for one time point.\n",
    "If you already have test time point, use ***test_single*** function to do it, assuming stream input and rain data input can be retrieved from the dataset. "
   ]
  },
  {
   "cell_type": "code",
   "execution_count": 3,
   "metadata": {},
   "outputs": [
    {
     "name": "stdout",
     "output_type": "stream",
     "text": [
      "test_point is:  2021-12-16 00:30:00\n",
      "RMSE:  66.66635489349483\n",
      "MAPE:  0.5394172786215025\n"
     ]
    },
    {
     "data": {
      "image/png": "[encoded data removed]",
      "text/plain": [
       "<Figure size 1080x216 with 1 Axes>"
      ]
     },
     "metadata": {
      "needs_background": "light"
     },
     "output_type": "display_data"
    }
   ],
   "source": [
    "import numpy as np\n",
    "from utils.utils2 import *\n",
    "testP=[\"2021-12-16 00:30:00\" ]\n",
    "predicted, ground_truth = model.test_single(testP[0])\n",
    "print(\"RMSE: \", RMSE(predicted, ground_truth))\n",
    "print(\"MAPE: \", MAPE(predicted, ground_truth))\n",
    "plot(ground_truth, predicted)"
   ]
  },
  {
   "cell_type": "markdown",
   "metadata": {},
   "source": [
    "## <font color=blue >Inferencing for real-world application.\n",
    "If you already have test time point, history stream input and rain data input prepared, use ***predict*** function to do it."
   ]
  },
  {
   "cell_type": "code",
   "execution_count": 4,
   "metadata": {},
   "outputs": [
    {
     "name": "stdout",
     "output_type": "stream",
     "text": [
      "current dir:  /data/hydro/hydro-2/code/DAN_pure_code_1211\n",
      "Importing parameters from:  opt.txt ............\n",
      "| DANet\n",
      "| --  Stack Encoder (#0)\n",
      "| --  Stack Decoder (#1)\n",
      "| --  Stack Residue (#2)\n",
      "norm is:  [1.38939955e+00 1.42360186e+00 7.20744940e-04 7.35950598e-03]\n",
      "test_point is:  2021-12-16 00:30:00\n",
      "Predicted data: \n",
      "[165.2791251  208.51392551 279.93059408 329.75679548 381.22430562\n",
      " 422.88107829 453.75106156 491.68966003 538.9351681  581.04373245\n",
      " 606.31477918 607.80486723 585.52600254 563.13089949 551.49196065\n",
      " 543.07285008 532.31545812 517.24193894 498.91645038 477.87196649\n",
      " 454.99340857 431.05126495 407.67152756 386.62877914 367.99245666\n",
      " 351.70507214 338.57920298 328.73050912 321.38291222 315.96447951\n",
      " 312.23117053 309.6260827  307.46597588 305.20425915 302.49965476\n",
      " 299.24129154 295.45691885 290.73047864 284.47760392 276.32899611\n",
      " 266.03578866 252.73226336 236.32983466 220.56439571 207.55413055\n",
      " 195.83403891 184.71275158 174.33738217 164.86494039 156.37566955\n",
      " 148.87063289 142.3096417  136.64349975 131.80339256 127.67084093\n",
      " 124.06649912 120.77493    117.59892932 114.41833023 111.21576123\n",
      " 108.04504315 104.96779981 102.0146615   99.18601266  96.47082394\n",
      "  93.85931979  91.34548812  88.92528233  86.59469459  84.3486938\n",
      "  82.18165192  80.08784992  78.06177789  76.09847067  74.1939213\n",
      "  72.34470894  70.54840415  68.8032241   67.10842485  65.46416985\n",
      "  63.8714327   62.33219905  60.84915425  59.42527973  58.06324603\n",
      "  56.76484259  55.53021802  54.35756591  53.24311362  52.1813413\n",
      "  51.16498382  50.18504665  49.23202487  48.29757578  47.36167873\n",
      "  46.43093436  45.47046048  44.51257973  43.56752242  42.63827489\n",
      "  41.72962795  40.84773369  39.99796758  39.18382437  38.40674168\n",
      "  37.6665381   36.9618656   36.29040095  35.64913765  35.0346392\n",
      "  34.44331377  33.8717747   33.31689979  32.77601239  32.24687175\n",
      "  31.72775356  31.2173642   30.7148913   30.21985247  29.73207132\n",
      "  29.25164434  28.77881872  28.31396031  27.85745549  27.40967007\n",
      "  26.97084559  26.5410801   26.1202374   25.70782869  25.30308403\n",
      "  24.90480719  24.51151323  24.12152994  23.73338175  23.34625567\n",
      "  22.96062608  22.57846753  22.20290428  21.83703949  21.48250206\n",
      "  21.13855894  20.80216031  20.46910616  20.13590946  19.80181108\n",
      "  19.46996438  19.14667989  18.83885459  18.55118822  18.28501471\n",
      "  18.03886499  17.80985905  17.59480688  17.39088476  17.19582761\n",
      "  17.00793605  16.82600471  16.64916685  16.47684433  16.30863337\n",
      "  16.14424958  15.98351356  15.82626615  15.67241553  15.52185854\n",
      "  15.37452563  15.23034501  15.08924549  14.95116321  14.81602531\n",
      "  14.68376226  14.55430249  14.42757377  14.30350328  14.18201761\n",
      "  14.06304027  13.9465032   13.8323402   13.72048556  13.61088277\n",
      "  13.50343986  13.39805148  13.29456779  13.19286235  13.09292805\n",
      "  12.99492642  12.89920428  12.80611654  12.7160647   12.62958024\n",
      "  12.54282632  12.4585967   12.37005826  12.28331277  12.19962416\n",
      "  12.1175636   12.03609836  11.95532484  11.87568219  11.7973533\n",
      "  11.72025106  11.64421631  11.56917357  11.49509996  11.42198357\n",
      "  11.34978545  11.27846537  11.20797461  11.13827581  11.06932518\n",
      "  11.00109819  10.9335637   10.86669018  10.80045575  10.73484891\n",
      "  10.66984248  10.60542956  10.54159349  10.4783316   10.41563344\n",
      "  10.35350125  10.29192569  10.23091661  10.17046843  10.11059071\n",
      "  10.05128715   9.99256502   9.93443141   9.87689411   9.81997081\n",
      "   9.76366416   9.70798217   9.65294617   9.59855817   9.54483079\n",
      "   9.49177817   9.43941056   9.38773358   9.33676762   9.28652304\n",
      "   9.23701259   9.18826086   9.14027821   9.09309789   9.04674746\n",
      "   9.00126672   8.95668884   8.91306667   8.87046308   8.82899498\n",
      "   8.7888747    8.75050163   8.71465273   8.68262064   8.65586523\n",
      "   8.63396969   8.61191826   8.58221351   8.54054447   8.48550975\n",
      "   8.41613801   8.33364935   8.24418046   8.15850316   8.08780458\n",
      "   8.03826161   8.00856909   7.99168085   7.9783471    7.96110871\n",
      "   7.93681791   7.90195642   7.84989197   7.79108443   7.74760037\n",
      "   7.72666249   7.71685138   7.69727849   7.65772375   7.58688035\n",
      "   7.5078668    7.46971896   7.37791955   7.32705514   7.3111582\n",
      "   7.29580405   7.24053998   7.7671474 ]\n"
     ]
    }
   ],
   "source": [
    "import numpy as np\n",
    "import random\n",
    "from utils.utils2 import *\n",
    "from run import Options\n",
    "from models.DAN_M import *\n",
    "from models.Inference import *\n",
    "opt = Options().parse()\n",
    "# model name\n",
    "pt = './output/SFC_withRain_shift/train/SFC_withRain_shift.zip'\n",
    "# get model\n",
    "model = Options().get_model(pt)\n",
    "# get data\n",
    "testP=[\"2021-12-16 00:30:00\"]   \n",
    "for i in range(len(testP)):\n",
    "    stream_data, indicator_data, _ = model.get_data(testP[i])  \n",
    "    p = model.predict(testP[i], stream_data, indicator_data)\n",
    "    print(\"Predicted data: \")\n",
    "    print(p)"
   ]
  }
 ],
 "metadata": {
  "kernelspec": {
   "display_name": "Python 3",
   "language": "python",
   "name": "python3"
  },
  "language_info": {
   "codemirror_mode": {
    "name": "ipython",
    "version": 3
   },
   "file_extension": ".py",
   "mimetype": "text/x-python",
   "name": "python",
   "nbconvert_exporter": "python",
   "pygments_lexer": "ipython3",
   "version": "3.8.3"
  }
 },
 "nbformat": 4,
 "nbformat_minor": 4
}
