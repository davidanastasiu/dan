{
 "cells": [
  {
   "cell_type": "markdown",
   "metadata": {},
   "source": [
    "## <font color=blue >DAN demo.\n",
    "This notebook demos how to train the DAN model on the CSV dataset files of ***SFC*** stream sensor. If you want to run it on other sensors, just change the parameter of ***--stream_sensor*** and ***--rain_sensor***.\n",
    "\n",
    "In our dataset, the parameters should be set to:\n",
    "\n",
    "--stream_sensor **Ross_S_fixed**\n",
    "--rain_sensor **Ross_R_fixed** \n",
    "\n",
    "--stream_sensor **Saratoga_S_fixed** \n",
    "--rain_sensor **Saratoga_R_fixed** \n",
    "\n",
    "--stream_sensor **UpperPen_S_fixed** \n",
    "--rain_sensor **UpperPen_R_fixed** \n",
    "\n",
    "--stream_sensor **SFC_S_fixed** \n",
    "--rain_sensor **SFC_R_fixed** \n",
    "\n",
    "With DAN, you can build **uni-variate** model, which means you only have stream sensor data as the traininig data and the input to the model.\n",
    "\n",
    "Also, you can build **multi-variate** model, which means you have stream sensor data and nearby rain sensor data. In this situation, the rain data can be the real rain record and the predicted rain data. \n",
    "    \n",
    "Generally, the **predicted rain data** can be extended to the future days, which will be a good hint to help forecast the stream data. So if you have influent forecasted data to train the model, please think about adoping this since we can support this method by setting the parameter *r_shift* to make use of the future forecasted rain information."
   ]
  },
  {
   "cell_type": "markdown",
   "metadata": {},
   "source": [
    "## <font color=blue >Parameter setting. \n",
    "\n",
    "--**stream_sensor**: stream dataset file name. The file should be csv file.\n",
    "\n",
    "--**rain_sensor**: rain dataset file name. The file should be csv file.\n",
    "\n",
    "--**train_volume**: train set size.\n",
    "\n",
    "--**hidden_dim**: hidden dim of lstm layers.\n",
    "\n",
    "--**cnn_dim**: hidden dim of cnn layers.\n",
    "\n",
    "--**layer**: number of layers.\n",
    "\n",
    "--**stack_types**: model stacks specified for this sensor. It should be a stack of encoder, decoder and residue.\n",
    "\n",
    "--**watershed**: 1 if trained with rain info, else 0.\n",
    "\n",
    "--**model**: model name, used to generate the pt file and predicted file names.\n",
    "\n",
    "--**mode**: set it to 'train' or 'inference' with an existing pt_file.\n",
    "\n",
    "--**pt_file**: if set, the model will be loaded from this pt file, otherwise check the file according to the assigned parameters.\n",
    "\n",
    "--**save**: if save the predicted file of testset, set to 1, else 0.\n",
    "\n",
    "--**outf**: default value is './output', the model will be saved in the train folder in this directory."
   ]
  },
  {
   "cell_type": "markdown",
   "metadata": {},
   "source": [
    "## <font color=blue >Train a *uni-variate* model without rain data."
   ]
  },
  {
   "cell_type": "code",
   "execution_count": null,
   "metadata": {},
   "outputs": [],
   "source": [
    "!export PYTHONPATH=$(dirname $(pwd)) && \\\n",
    "python -m dan-main.run \\\n",
    "--stream_sensor SFC_S_fixed \\\n",
    "--rain_sensor SFC_R_fixed \\\n",
    "--model SFC_noRain \\\n",
    "--mode train \\\n",
    "--watershed 0 \\\n",
    "--stack_types '\"encoder\",\"decoder\",\"encoder\",\"decoder\",\"residue\"' \\\n",
    "--train_volume 30000 \\\n",
    "--hidden_dim 384 \\"
   ]
  },
  {
   "cell_type": "markdown",
   "metadata": {},
   "source": [
    "## <font color=blue >Train a *multi-variate* model with rain data."
   ]
  },
  {
   "cell_type": "code",
   "execution_count": null,
   "metadata": {},
   "outputs": [],
   "source": [
    "!export PYTHONPATH=$(dirname $(pwd)) && \\\n",
    "python -m dan-main.run \\\n",
    "--stream_sensor SFC_S_fixed \\\n",
    "--rain_sensor SFC_R_fixed \\\n",
    "--model SFC_withRain \\\n",
    "--mode train \\\n",
    "--watershed 1 \\\n",
    "--stack_types '\"encoder\",\"decoder\",\"encoder\",\"decoder\",\"residue\"' \\\n",
    "--train_volume 30000 \\\n",
    "--hidden_dim 384 \\"
   ]
  },
  {
   "cell_type": "markdown",
   "metadata": {},
   "source": [
    "## <font color=blue > How to Test\n",
    "\n",
    "To test, we provide the test.py to produce a prediction and compare with the ground truth values. The fig is saved in output.png.\n",
    "\n",
    "--**model_path**: The model zip file path.\n",
    "\n",
    "--**test_time**: The start time point being predicted."
   ]
  },
  {
   "cell_type": "code",
   "execution_count": null,
   "metadata": {},
   "outputs": [],
   "source": [
    "!export PYTHONPATH=$(dirname $(pwd)) && \\\n",
    "python -m dan-main.test --model_path \"output/SFC_withRain/train/SFC_withRain.zip\" --test_time \"2022-01-04 08:30:00\""
   ]
  },
  {
   "cell_type": "markdown",
   "metadata": {},
   "source": [
    "## <font color=blue > How to Predict\n",
    "\n",
    "To predict on one timepoint, we provide the predict.py to produce a prediction and save the value into predict.txt.\n",
    "\n",
    "--**model_path**: The model zip file path.\n",
    "\n",
    "--**test_time**: The start time point being predicted."
   ]
  },
  {
   "cell_type": "code",
   "execution_count": null,
   "metadata": {},
   "outputs": [],
   "source": [
    "!export PYTHONPATH=$(dirname $(pwd)) && \\\n",
    "python -m dan-main.predict --model_path \"output/SFC_withRain/train/SFC_withRain.zip\" --test_time \"2020-01-07 03:45:00\""
   ]
  }
 ],
 "metadata": {
  "kernelspec": {
   "display_name": "Python 3",
   "language": "python",
   "name": "python3"
  },
  "language_info": {
   "codemirror_mode": {
    "name": "ipython",
    "version": 3
   },
   "file_extension": ".py",
   "mimetype": "text/x-python",
   "name": "python",
   "nbconvert_exporter": "python",
   "pygments_lexer": "ipython3",
   "version": "3.8.3"
  }
 },
 "nbformat": 4,
 "nbformat_minor": 4
}
